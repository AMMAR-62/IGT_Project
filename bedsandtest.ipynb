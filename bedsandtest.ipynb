{
 "metadata": {
  "language_info": {
   "codemirror_mode": {
    "name": "ipython",
    "version": 3
   },
   "file_extension": ".py",
   "mimetype": "text/x-python",
   "name": "python",
   "nbconvert_exporter": "python",
   "pygments_lexer": "ipython3",
   "version": "3.8.2"
  },
  "orig_nbformat": 2,
  "kernelspec": {
   "name": "python382jvsc74a57bd059959ffebd7c2b6da281e05f2d9049ecbc64f64f376674539b2b3556a24376db",
   "display_name": "Python 3.8.2 64-bit"
  }
 },
 "nbformat": 4,
 "nbformat_minor": 2,
 "cells": [
  {
   "cell_type": "code",
   "execution_count": 1,
   "metadata": {},
   "outputs": [],
   "source": [
    "import requests\n",
    "import datetime\n",
    "import json\n",
    "import pandas as pd"
   ]
  },
  {
   "cell_type": "code",
   "execution_count": 2,
   "metadata": {},
   "outputs": [],
   "source": [
    "url = \"https://api.rootnet.in/covid19-in/hospitals/beds\"\n",
    "header = {'User-Agent': \"Mozilla/5.0 (Windows NT 10.0; Win64; x64) AppleWebKit/537.36 (KHTML, like Gecko) Chrome/90.0.4430.93 Safari/537.36\"}\n",
    "response = requests.get(url, headers= header)\n",
    "resp_json = response.json()\n",
    "data = []\n",
    "for i in resp_json[\"data\"][\"regional\"]:\n",
    "    data.append(i)\n",
    "df = pd.DataFrame(data)\n",
    "df = df.iloc[:, :-1]\n",
    "df.set_index(['state'], inplace = True)\n",
    "# print(df)\n",
    "df.to_csv(\"statesWithHospitals.csv\", sep=\",\")\n"
   ]
  },
  {
   "cell_type": "code",
   "execution_count": 3,
   "metadata": {
    "tags": []
   },
   "outputs": [
    {
     "output_type": "stream",
     "name": "stdout",
     "text": [
      "            state                                               name  \\\n0   A & N Islands  Andaman & Nicobar Islands Insitute of Medical ...   \n1  Andhra Pradesh            ACSR Government Medical College Nellore   \n2  Andhra Pradesh  Alluri Sitaram Raju Academy of Medical Science...   \n3  Andhra Pradesh              Andhra Medical College, Visakhapatnam   \n4  Andhra Pradesh  Apollo Institute of Medical Sciences and Resea...   \n\n            city ownership  admissionCapacity  hospitalBeds  \n0     Port Blair     Govt.                100           460  \n1        Nellore     Govt.                150           750  \n2          Eluru     Trust                150          1070  \n3  Visakhapatnam     Govt.                200          2017  \n4       Chittoor   Society                150             0  \n"
     ]
    }
   ],
   "source": [
    "url = \"https://api.rootnet.in/covid19-in/hospitals/medical-colleges\"\n",
    "response = requests.get(url)\n",
    "resp_json = response.json()\n",
    "data = []\n",
    "for i in resp_json[\"data\"][\"medicalColleges\"]:\n",
    "        data.append(i)\n",
    "df = pd.DataFrame(data)\n",
    "print(df.head())\n",
    "df.to_csv(\"statesWithMedicalColleges.csv\", sep=\",\")     "
   ]
  },
  {
   "cell_type": "code",
   "execution_count": 4,
   "metadata": {},
   "outputs": [
    {
     "output_type": "stream",
     "name": "stdout",
     "text": [
      "[{'state': 'Andhra Pradesh', 'ruralHospitals': 193, 'ruralBeds': 6480, 'urbanHospitals': 65, 'urbanBeds': 16658, 'totalHospitals': 258, 'totalBeds': 23138, 'asOn': '2017-01-01T00:00:00.000Z'}, {'state': 'Andhra Pradesh', 'ruralHospitals': 193, 'ruralBeds': 6480, 'urbanHospitals': 65, 'urbanBeds': 16658, 'totalHospitals': 258, 'totalBeds': 23138, 'asOn': '2017-01-01T00:00:00.000Z'}]\n            state  ruralHospitals  ruralBeds  urbanHospitals  urbanBeds  \\\n0  Andhra Pradesh             193       6480              65      16658   \n1  Andhra Pradesh             193       6480              65      16658   \n\n   totalHospitals  totalBeds                      asOn  \n0             258      23138  2017-01-01T00:00:00.000Z  \n1             258      23138  2017-01-01T00:00:00.000Z  \n"
     ]
    }
   ],
   "source": [
    "data1 = {'state': 'Andhra Pradesh', 'ruralHospitals': 193, 'ruralBeds': 6480, 'urbanHospitals': 65, 'urbanBeds': 16658, 'totalHospitals': 258, 'totalBeds': 23138, 'asOn': '2017-01-01T00:00:00.000Z'}\n",
    "data = [data1]\n",
    "data2 = {'state': 'Andhra Pradesh', 'ruralHospitals': 193, 'ruralBeds': 6480, 'urbanHospitals': 65, 'urbanBeds': 16658, 'totalHospitals': 258, 'totalBeds': 23138, 'asOn': '2017-01-01T00:00:00.000Z'}\n",
    "data.append(data2)\n",
    "print(data)\n",
    "df = pd.DataFrame(data)\n",
    "print(df)\n",
    "# df = df.append([data2])\n",
    "# print(df.iloc[:, :-1])"
   ]
  },
  {
   "cell_type": "code",
   "execution_count": null,
   "metadata": {},
   "outputs": [],
   "source": []
  }
 ]
}